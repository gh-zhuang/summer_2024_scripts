{
 "cells": [
  {
   "cell_type": "code",
   "execution_count": null,
   "id": "865f198e-abaa-4967-a02d-6046114eebfe",
   "metadata": {},
   "outputs": [],
   "source": [
    "import numpy as np\n",
    "import pandas as pd\n",
    "\n",
    "import matplotlib.pyplot as plt\n",
    "import seaborn as sns\n",
    "from PIL import Image\n",
    "\n",
    "## system\n",
    "import os\n",
    "import pickle\n",
    "import warnings\n",
    "warnings.filterwarnings(\"ignore\")\n",
    "\n",
    "## statistics\n",
    "from scipy.stats import zscore\n",
    "import statsmodels.formula.api as sm\n",
    "\n",
    "## ML\n",
    "import PyComplexHeatmap as pyc\n",
    "from PyComplexHeatmap.utils import define_cmap\n",
    "import umap.umap_ as umap\n",
    "from sklearn.preprocessing import StandardScaler\n",
    "from sklearn.cluster import KMeans\n",
    "\n",
    "\n",
    "## Extra\n",
    "from anndata import read_h5ad"
   ]
  },
  {
   "cell_type": "markdown",
   "id": "4ec4298d-088c-4ba8-b4e7-a61f4d6e8d89",
   "metadata": {},
   "source": [
    "## Load Data"
   ]
  },
  {
   "cell_type": "code",
   "execution_count": null,
   "id": "d956b674-2783-4a4d-8754-e7b712439a4f",
   "metadata": {},
   "outputs": [],
   "source": [
    "## Load plasma-tissue paired samples\n",
    "ad = read_h5ad('/screening/analysis/2024_05_03_tissue_enhanced_mrd_AS/intermediate/anndata/2024_06_28_pilot_tpb_anndata.h5ad')\n",
    "\n",
    "## Load plasma-tissue paired samples' meta-data\n",
    "columns = [\"unique_sample_id\", \"sample_id\", \"age\",\"qc_status\", \"histological_subtype\", \"flowcell\", \"molecule_file_path\", \"g360_max_maf_pct\"]\n",
    "meta_info = pd.read_csv(\"/screening/analysis/2024_05_03_tissue_enhanced_mrd_AS/resources/metadata/2024-06-23_updated_pilot_TPB_and_cf_Ep1_Epiv2p0_with_epiTFgamma.tsv\", sep=\"\\t\").\\\n",
    "    loc[:,columns]\n",
    "    \n",
    "## combine meta-data\n",
    "tissue_meta = ad.obs.reset_index().\\\n",
    "    query(' patient_id_specimen.str.endswith(\"__tumor_tissue\") ').\\\n",
    "    merge(meta_info, how=\"left\", on=\"unique_sample_id\")\n",
    "\n",
    "plasma_meta = ad.obs.reset_index().\\\n",
    "    query(' patient_id_specimen.str.endswith(\"__plasma_patient\") ').\\\n",
    "    merge(meta_info, how=\"left\", on=\"unique_sample_id\")\n",
    "\n",
    "plasma_tissue_meta = pd.concat([plasma_meta,tissue_meta],axis=0)\n",
    "print(f\"The shape of plasma-tissue meta-data before filtering is {plasma_tissue_meta.shape}\")\n",
    "\n",
    "## load plasma-tissue paired samples' region scores\n",
    "plasma_tissue_lung_region_scores = pd.read_csv(\"/home/eforouzmand/repos/gh-eforouzmand/2024-Jul-09-Tissue-Plasma-Comparisons/tissue_plasma_lung_region_scores.tsv\", sep=\"\\t\")\n",
    "\n",
    "## Missing sample filtering\n",
    "missing_patient_id_specimen = plasma_tissue_meta.query('~sample_id.isin(@plasma_tissue_lung_region_scores.run_sample_id) ').patient_id_specimen.iloc[0].split(\"__\")[0]\n",
    "missing_run_sample_id = plasma_tissue_meta.query(' patient_id_specimen.str.startswith(@missing_patient_id_specimen) ').sample_id\n",
    "\n",
    "plasma_tissue_meta = plasma_tissue_meta.query(' ~sample_id.isin(@missing_run_sample_id) ').\\\n",
    "    set_index(\"sample_id\")\n",
    "\n",
    "print(f\"Meta-data shape after filtering: {plasma_tissue_meta.shape}\")\n",
    "\n",
    "plasma_tissue_lung_region_scores = plasma_tissue_lung_region_scores.query(' ~run_sample_id.isin(@missing_run_sample_id) ').\\\n",
    "    set_index(\"run_sample_id\")\n",
    "\n",
    "print(f\"Region score data shape after filtering: {plasma_tissue_lung_region_scores.shape}\")\n",
    "\n",
    "## Load clustering information of plasma-tissue pairs\n",
    "plasma_tissue_cluster = pd.read_csv(\"/screening/notebooks/zhuang/summer_2024/data/plasma_tissue_cluster.tsv\", sep=\"\\t\").\\\n",
    "    set_index(\"run_sample_id\")"
   ]
  },
  {
   "cell_type": "code",
   "execution_count": null,
   "id": "54494766-3001-4601-85b4-fc295571eecc",
   "metadata": {},
   "outputs": [],
   "source": [
    "## region meta-info\n",
    "tissue_regions_meta = pd.read_csv('/screening/analysis/2024_03_29_MCD_intermediate_files/intermediate/s3_region_design/s3_v1.2b_V6_noCntrl_and_tcga_overlap_EP1_full.tsv', sep='\\t')\n",
    "tissue_regions_meta.head()\n",
    "\n",
    "## lung model\n",
    "s3_v4_model = pd.read_table(\"/home/eforouzmand/repos/gh-eforouzmand/2024-Jun-12-Lung-S3-in-region-discovery/intermediate_data/CANDIDATE_S3_Lung_-_V4.model_file.98_spec_set_on_s3_data.tsv\")"
   ]
  },
  {
   "cell_type": "markdown",
   "id": "7236adb8-26c6-4322-9417-563fa4b19544",
   "metadata": {},
   "source": [
    "## Load cancer-free & lung samples for the discovery set"
   ]
  },
  {
   "cell_type": "code",
   "execution_count": null,
   "id": "3a3eb7a8-6666-4552-85e3-1cf30d14e72c",
   "metadata": {},
   "outputs": [],
   "source": [
    "with open('/screening/notebooks/zhuang/summer_2024/data/region_ids.pkl', 'rb') as f:\n",
    "        region_ids = pickle.load(f)\n",
    "\n",
    "with open('/screening/notebooks/zhuang/summer_2024/data/df_ldt.pkl', 'rb') as f:\n",
    "        df_ldt = pickle.load(f)\n",
    "\n",
    "df_cf = df_ldt.loc[:,[\"unique_sample_id\",\"sample_group\"]+region_ids].\\\n",
    "    query('sample_group == \"cancer_free\"').\\\n",
    "    drop(\"sample_group\",axis=1).\\\n",
    "    set_index(\"unique_sample_id\").\\\n",
    "    loc[:,s3_v4_model.region_id]\n",
    "\n",
    "print(f\"The shape of the cancer-free sample data from the discovery set is {df_cf.shape}\")\n",
    "\n",
    "## Mean and Std of each region in cancer-free samples\n",
    "cf_means = df_cf.mean(axis=0)\n",
    "cf_stds = df_cf.std(axis=0)\n",
    "\n",
    "meta_columns = [\"specimen_type\",\"patient_id\",\"histological_subtype\"]\n",
    "\n",
    "plasma_tissue_lung_region_scores = pd.merge(plasma_tissue_lung_region_scores, plasma_tissue_cluster[meta_columns], how=\"left\", left_index=True, right_index=True)"
   ]
  },
  {
   "cell_type": "markdown",
   "id": "c0f2f5cb-3bbb-437c-af17-b73d80fded54",
   "metadata": {},
   "source": [
    "## Region-specific Tissue Multiplier"
   ]
  },
  {
   "cell_type": "code",
   "execution_count": null,
   "id": "9ba11a80-42dd-4556-926f-80657c866b48",
   "metadata": {},
   "outputs": [],
   "source": [
    "tissue_lung_region_scores = plasma_tissue_lung_region_scores.query(' specimen_type == \"tumor_tissue\" ').\\\n",
    "    drop(meta_columns, axis=1)\n",
    "\n",
    "plasma_lung_region_scores = plasma_tissue_lung_region_scores.query(' specimen_type == \"plasma_patient\" ').\\\n",
    "    drop(meta_columns, axis=1)\n"
   ]
  }
 ],
 "metadata": {
  "kernelspec": {
   "display_name": "Python [conda env:lunartk_v1.1.0] *",
   "language": "python",
   "name": "conda-env-lunartk_v1.1.0-py"
  },
  "language_info": {
   "codemirror_mode": {
    "name": "ipython",
    "version": 3
   },
   "file_extension": ".py",
   "mimetype": "text/x-python",
   "name": "python",
   "nbconvert_exporter": "python",
   "pygments_lexer": "ipython3",
   "version": "3.10.0"
  }
 },
 "nbformat": 4,
 "nbformat_minor": 5
}
